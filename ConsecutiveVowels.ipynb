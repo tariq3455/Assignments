{
  "nbformat": 4,
  "nbformat_minor": 0,
  "metadata": {
    "colab": {
      "name": "ConsecutiveVowels.ipynb",
      "provenance": [],
      "authorship_tag": "ABX9TyOYCv9doGQ2D9jXosvzMIt7",
      "include_colab_link": true
    },
    "kernelspec": {
      "name": "python3",
      "display_name": "Python 3"
    },
    "language_info": {
      "name": "python"
    }
  },
  "cells": [
    {
      "cell_type": "markdown",
      "metadata": {
        "id": "view-in-github",
        "colab_type": "text"
      },
      "source": [
        "<a href=\"https://colab.research.google.com/github/tariq3455/Assignments/blob/main/ConsecutiveVowels.ipynb\" target=\"_parent\"><img src=\"https://colab.research.google.com/assets/colab-badge.svg\" alt=\"Open In Colab\"/></a>"
      ]
    },
    {
      "cell_type": "code",
      "metadata": {
        "colab": {
          "base_uri": "https://localhost:8080/"
        },
        "id": "r4QeWgv6cqZn",
        "outputId": "d815dfd6-5376-4ab3-ab18-59cbce05f0b8"
      },
      "source": [
        "str = list(input(\"Please enter a string: \").lower())\n",
        "vowels = [\"a\", \"e\", \"i\", \"o\", \"u\"]\n",
        "\n",
        "\n",
        "lst = [[str[i-1], str[i]] for i in range(1, len(str)) if str[i] in vowels if str[i-1] in vowels]\n",
        "\n",
        "print(f\"{'Positive'}\" * (len(lst)!= 0)  + f\"{'Negative'}\" * (len(lst) == 0))\n",
        "\n",
        "\n"
      ],
      "execution_count": 15,
      "outputs": [
        {
          "output_type": "stream",
          "name": "stdout",
          "text": [
            "Please enter a string: aurie\n",
            "Positive\n"
          ]
        }
      ]
    }
  ]
}