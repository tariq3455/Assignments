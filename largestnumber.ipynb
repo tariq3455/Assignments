{
  "nbformat": 4,
  "nbformat_minor": 0,
  "metadata": {
    "colab": {
      "name": "largestnumber.ipynb",
      "provenance": [],
      "authorship_tag": "ABX9TyNPE4UivUCsdqdJh+GnrQS9",
      "include_colab_link": true
    },
    "kernelspec": {
      "name": "python3",
      "display_name": "Python 3"
    },
    "language_info": {
      "name": "python"
    }
  },
  "cells": [
    {
      "cell_type": "markdown",
      "metadata": {
        "id": "view-in-github",
        "colab_type": "text"
      },
      "source": [
        "<a href=\"https://colab.research.google.com/github/tariq3455/Assignments/blob/main/largestnumber.ipynb\" target=\"_parent\"><img src=\"https://colab.research.google.com/assets/colab-badge.svg\" alt=\"Open In Colab\"/></a>"
      ]
    },
    {
      "cell_type": "code",
      "metadata": {
        "colab": {
          "base_uri": "https://localhost:8080/"
        },
        "id": "l3CPoeF-dSKI",
        "outputId": "5cd78cbe-96f5-4a9f-921d-7c86e42354ae"
      },
      "source": [
        "\n",
        "def myMax(list1):\n",
        "\n",
        "\t# Listedeki ilk sayının en büyük olduğunu varsayın\n",
        "\t# başlangıçta ve \"max\" değişkenine atayın\n",
        "\tmax = list1[0]\n",
        "\n",
        "\t# Şimdi listede gezinin ve karşılaştırın\n",
        "\t# \"max\" değerine sahip her sayı. hangisi olursa \n",
        "\t# en büyük değeri \"max\" değerine atayın.\n",
        "\tfor x in list1:\n",
        "\t\tif x > max :\n",
        "\t\t\tmax = x\n",
        "\t\n",
        "\t# liste içinde gezin ve \"max\" değerini döndür\n",
        "\treturn max\n",
        "\n",
        "\n",
        "# oynat uğurcum\n",
        "list1 = [34, 35, 48, 17, 55]\n",
        "print(\"Largest element is:\", myMax(list1))\n"
      ],
      "execution_count": 1,
      "outputs": [
        {
          "output_type": "stream",
          "name": "stdout",
          "text": [
            "Largest element is: 55\n"
          ]
        }
      ]
    },
    {
      "cell_type": "code",
      "metadata": {
        "colab": {
          "base_uri": "https://localhost:8080/"
        },
        "id": "DV7GjxCcjRr-",
        "outputId": "c2eb3d1d-7bf2-4b51-ed8b-6e4ad68a93d0"
      },
      "source": [
        "a = [1,2,3,4,6,7,99,88,999]\n",
        "max_num = 0\n",
        "for i in a:\n",
        "    if i > max_num:\n",
        "        max_num = i\n",
        "print(max_num)"
      ],
      "execution_count": 24,
      "outputs": [
        {
          "output_type": "stream",
          "name": "stdout",
          "text": [
            "999\n"
          ]
        }
      ]
    },
    {
      "cell_type": "code",
      "metadata": {
        "colab": {
          "base_uri": "https://localhost:8080/"
        },
        "id": "XJBW1wzNLyX2",
        "outputId": "a1e4aead-7bc4-47cd-e71d-990b8e12f2cb"
      },
      "source": [
        "count=0\n",
        "array=[]\n",
        "while count < 5:\n",
        "  number= int(input('Please enter the number: '))\n",
        "  array.append(number)\n",
        "  count += 1\n",
        "def findLargestNum(nums):\n",
        "  largest = nums[0]\n",
        "  for i in nums:\n",
        "    if i > largest:\n",
        "      largest = i\n",
        "  return largest\n",
        "print(findLargestNum(array))"
      ],
      "execution_count": 7,
      "outputs": [
        {
          "output_type": "stream",
          "name": "stdout",
          "text": [
            "Please enter the number: 45\n",
            "Please enter the number: 87\n",
            "Please enter the number: 12\n",
            "Please enter the number: 658\n",
            "Please enter the number: 98\n",
            "658\n"
          ]
        }
      ]
    }
  ]
}