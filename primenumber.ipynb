{
  "nbformat": 4,
  "nbformat_minor": 0,
  "metadata": {
    "colab": {
      "name": "primenumber.ipynb",
      "provenance": [],
      "authorship_tag": "ABX9TyNxGGD7aNcLF1+3FprJuxY3",
      "include_colab_link": true
    },
    "kernelspec": {
      "name": "python3",
      "display_name": "Python 3"
    },
    "language_info": {
      "name": "python"
    }
  },
  "cells": [
    {
      "cell_type": "markdown",
      "metadata": {
        "id": "view-in-github",
        "colab_type": "text"
      },
      "source": [
        "<a href=\"https://colab.research.google.com/github/tariq3455/Assignments/blob/main/primenumber.ipynb\" target=\"_parent\"><img src=\"https://colab.research.google.com/assets/colab-badge.svg\" alt=\"Open In Colab\"/></a>"
      ]
    },
    {
      "cell_type": "code",
      "metadata": {
        "colab": {
          "base_uri": "https://localhost:8080/"
        },
        "id": "vHNOhS1JmC19",
        "outputId": "b23eebe3-f46c-4c3c-a114-7375e8894857"
      },
      "source": [
        "num = int(input(\"enter a number?: \"))\n",
        "if num > 1:\n",
        "    for i in range(2, num//2):\n",
        "      if (num % i) == 0:\n",
        "            print(num, \"is not a prime number\")\n",
        "            break\n",
        "      else:\n",
        "            print(num, \"is a prime number\")\n",
        "            break"
      ],
      "execution_count": 22,
      "outputs": [
        {
          "output_type": "stream",
          "text": [
            "enter a number?: 1071\n",
            "1071 is a prime number\n"
          ],
          "name": "stdout"
        }
      ]
    }
  ]
}