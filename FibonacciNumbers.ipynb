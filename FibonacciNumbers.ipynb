{
  "nbformat": 4,
  "nbformat_minor": 0,
  "metadata": {
    "colab": {
      "name": "FibonacciNumbers.ipynb",
      "provenance": [],
      "authorship_tag": "ABX9TyOSyFzrqn7OsmpUim7RmDK0",
      "include_colab_link": true
    },
    "kernelspec": {
      "name": "python3",
      "display_name": "Python 3"
    },
    "language_info": {
      "name": "python"
    }
  },
  "cells": [
    {
      "cell_type": "markdown",
      "metadata": {
        "id": "view-in-github",
        "colab_type": "text"
      },
      "source": [
        "<a href=\"https://colab.research.google.com/github/tariq3455/Assignments/blob/main/FibonacciNumbers.ipynb\" target=\"_parent\"><img src=\"https://colab.research.google.com/assets/colab-badge.svg\" alt=\"Open In Colab\"/></a>"
      ]
    },
    {
      "cell_type": "code",
      "metadata": {
        "colab": {
          "base_uri": "https://localhost:8080/"
        },
        "id": "93uT4TM0fGhx",
        "outputId": "d9dae456-fe9f-4656-925e-4cceb415411b"
      },
      "source": [
        "#Task : Create a list consisting of Fibonacci numbers from 1 to 55 using control flow statements.\n",
        "\n",
        "#The desired output is like : fibonacci →  [1, 1, 2, 3, 5, 8, 13, 21, 34, 55]\n",
        "\n",
        "list = []\n",
        "a, b = 1, 1\n",
        "\n",
        "while a <= 55 :\n",
        "    list.append(a)\n",
        "    a, b = b, b + a\n",
        "print(list)"
      ],
      "execution_count": 9,
      "outputs": [
        {
          "output_type": "stream",
          "text": [
            "[1, 1, 2, 3, 5, 8, 13, 21, 34, 55]\n"
          ],
          "name": "stdout"
        }
      ]
    }
  ]
}