{
  "nbformat": 4,
  "nbformat_minor": 0,
  "metadata": {
    "colab": {
      "name": "generatepassword.ipynb",
      "provenance": [],
      "authorship_tag": "ABX9TyOVCnCx69xb9x5bcyWG1U3Q",
      "include_colab_link": true
    },
    "kernelspec": {
      "name": "python3",
      "display_name": "Python 3"
    },
    "language_info": {
      "name": "python"
    }
  },
  "cells": [
    {
      "cell_type": "markdown",
      "metadata": {
        "id": "view-in-github",
        "colab_type": "text"
      },
      "source": [
        "<a href=\"https://colab.research.google.com/github/tariq3455/Assignments/blob/main/generatepassword.ipynb\" target=\"_parent\"><img src=\"https://colab.research.google.com/assets/colab-badge.svg\" alt=\"Open In Colab\"/></a>"
      ]
    },
    {
      "cell_type": "code",
      "metadata": {
        "id": "kDlbKaKYAJVk"
      },
      "source": [
        "import random as rnd\n",
        "name = input(\"Please enter your full name (without any space): \")\n",
        "passw = \"\"\n",
        "for i in range(3):\n",
        "  randIndex = rnd.randint(0, len(name)-1)\n",
        "  letter = name[randIndex]\n",
        "  passw += letter.lower()\n",
        "randNum = rnd.randint(1000,9999)\n",
        "passw += str(randNum)\n",
        "print(passw)\n"
      ],
      "execution_count": null,
      "outputs": []
    }
  ]
}