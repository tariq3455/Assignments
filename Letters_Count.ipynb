{
  "nbformat": 4,
  "nbformat_minor": 0,
  "metadata": {
    "colab": {
      "name": "Letters_Count.ipynb",
      "provenance": [],
      "authorship_tag": "ABX9TyP+6q+edHcNYwAVLCiyqzlI",
      "include_colab_link": true
    },
    "kernelspec": {
      "name": "python3",
      "display_name": "Python 3"
    },
    "language_info": {
      "name": "python"
    }
  },
  "cells": [
    {
      "cell_type": "markdown",
      "metadata": {
        "id": "view-in-github",
        "colab_type": "text"
      },
      "source": [
        "<a href=\"https://colab.research.google.com/github/tariq3455/Assignments/blob/main/Letters_Count.ipynb\" target=\"_parent\"><img src=\"https://colab.research.google.com/assets/colab-badge.svg\" alt=\"Open In Colab\"/></a>"
      ]
    },
    {
      "cell_type": "markdown",
      "metadata": {
        "id": "KrsZUe9rrvgP"
      },
      "source": [
        "Task:\n",
        "\n",
        "Count the number of each letter in a sentence.\n",
        "\n",
        "*   The department you work for undertook a project construction that makes word / text analysis. You are asked to calculate the number of letters or any chars in the sentences entered under this project.\n",
        "*   Write a Python program that;\n",
        "\n",
        "1.   takes a sentence from the user,\n",
        "2.   counts the number of each letter of the sentence,\n",
        "3.   collects the letters/chars as a key and the counted numbers as a value in a dictionary.\n",
        "\n",
        "\n",
        "\n",
        "\n",
        "\n"
      ]
    },
    {
      "cell_type": "code",
      "metadata": {
        "colab": {
          "base_uri": "https://localhost:8080/"
        },
        "id": "RIZUX5J3rY4Z",
        "outputId": "3860ee8d-bbb1-4364-ad6f-162ed6ba8ef6"
      },
      "source": [
        "sentence = input(\"Enter a sentence please:\")\n",
        "dic = {}\n",
        "for i in sentence:\n",
        "    dic[i]=sentence.count(i)\n",
        "print(dic)"
      ],
      "execution_count": null,
      "outputs": [
        {
          "output_type": "stream",
          "text": [
            "Enter a sentence please:hippo runs to us!\n",
            "{'h': 1, 'i': 1, 'p': 2, 'o': 2, ' ': 3, 'r': 1, 'u': 2, 'n': 1, 's': 2, 't': 1, '!': 1}\n"
          ],
          "name": "stdout"
        }
      ]
    }
  ]
}