{
  "nbformat": 4,
  "nbformat_minor": 0,
  "metadata": {
    "colab": {
      "name": "PrimeNumbers.ipynb",
      "provenance": [],
      "authorship_tag": "ABX9TyNqwm/kJi+Uww4yWExW6aLH",
      "include_colab_link": true
    },
    "kernelspec": {
      "name": "python3",
      "display_name": "Python 3"
    },
    "language_info": {
      "name": "python"
    }
  },
  "cells": [
    {
      "cell_type": "markdown",
      "metadata": {
        "id": "view-in-github",
        "colab_type": "text"
      },
      "source": [
        "<a href=\"https://colab.research.google.com/github/tariq3455/Assignments/blob/main/PrimeNumbers.ipynb\" target=\"_parent\"><img src=\"https://colab.research.google.com/assets/colab-badge.svg\" alt=\"Open In Colab\"/></a>"
      ]
    },
    {
      "cell_type": "code",
      "metadata": {
        "colab": {
          "base_uri": "https://localhost:8080/"
        },
        "id": "0jDGNmTeqTQB",
        "outputId": "94783579-489a-4f7d-83d8-b7d6323e0cf7"
      },
      "source": [
        "def is_prime(x):\n",
        "    if x <=1:\n",
        "        return False\n",
        "    for y in range(2,int(x/2)+1):\n",
        "        if x % y == 0:\n",
        "            return False\n",
        "    return True\n",
        "\n",
        "list_of_primes = [y for y in range(100) if is_prime(y)]\n",
        "print(list_of_primes)"
      ],
      "execution_count": 1,
      "outputs": [
        {
          "output_type": "stream",
          "text": [
            "[2, 3, 5, 7, 11, 13, 17, 19, 23, 29, 31, 37, 41, 43, 47, 53, 59, 61, 67, 71, 73, 79, 83, 89, 97]\n"
          ],
          "name": "stdout"
        }
      ]
    }
  ]
}